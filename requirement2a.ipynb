{
 "cells": [
  {
   "cell_type": "markdown",
   "metadata": {},
   "source": [
    "### Import packages - libraries"
   ]
  },
  {
   "cell_type": "code",
   "execution_count": 1,
   "metadata": {},
   "outputs": [],
   "source": [
    "import pandas as pd\n",
    "import numpy as np\n",
    "import time\n",
    "import re\n",
    "from nltk.stem.snowball import SnowballStemmer\n",
    "from nltk.corpus import stopwords\n",
    "import scipy\n",
    "from sklearn.metrics.pairwise import cosine_similarity\n",
    "from datasketch import MinHashLSH\n",
    "from sklearn.feature_extraction.text import CountVectorizer\n",
    "import numpy.linalg as LA\n",
    "#import spacy\n",
    "\n",
    "import matplotlib.pyplot as plt\n",
    "import seaborn as sns\n",
    "\n",
    "from sklearn.feature_extraction.text import TfidfVectorizer\n",
    "from sklearn.feature_extraction.text import TfidfTransformer\n",
    "\n",
    "from datasketch import MinHash\n",
    "import nltk\n",
    "#nltk.download('stopwords')\n",
    "#nlp = spacy.load('en_core_web_md')"
   ]
  },
  {
   "cell_type": "code",
   "execution_count": 2,
   "metadata": {},
   "outputs": [],
   "source": [
    "train_data = pd.read_csv('datasets/q2a/corpusTrain.csv', sep=',')\n",
    "test_data = pd.read_csv('datasets/q2a/corpusTest.csv', sep=',')\n",
    "train_data = train_data\n",
    "test_data = test_data"
   ]
  },
  {
   "cell_type": "code",
   "execution_count": 3,
   "metadata": {},
   "outputs": [
    {
     "data": {
      "text/plain": [
       "531990"
      ]
     },
     "execution_count": 3,
     "metadata": {},
     "output_type": "execute_result"
    }
   ],
   "source": [
    "len(train_data)"
   ]
  },
  {
   "cell_type": "code",
   "execution_count": 4,
   "metadata": {},
   "outputs": [
    {
     "data": {
      "text/plain": [
       "5374"
      ]
     },
     "execution_count": 4,
     "metadata": {},
     "output_type": "execute_result"
    }
   ],
   "source": [
    "len(test_data)"
   ]
  },
  {
   "cell_type": "markdown",
   "metadata": {},
   "source": [
    "### Preprocess"
   ]
  },
  {
   "cell_type": "code",
   "execution_count": 3,
   "metadata": {},
   "outputs": [],
   "source": [
    "def preprocess(text):\n",
    "    stopWords = stopwords.words('english')\n",
    "    p_stemmer = SnowballStemmer(language='english')\n",
    "    text = re.sub(r'[^\\w\\s]','',text)\n",
    "    tokens = text.lower()\n",
    "    tokens = tokens.split()\n",
    "    tokens = [wrd for wrd in tokens if(wrd not in stopWords)]\n",
    "    stems = [p_stemmer.stem(t) for t in tokens]\n",
    "    return stems"
   ]
  },
  {
   "cell_type": "code",
   "execution_count": 4,
   "metadata": {},
   "outputs": [],
   "source": [
    "def preprocess2(text):\n",
    "    stopWords = stopwords.words('english')\n",
    "    p_stemmer = SnowballStemmer(language='english')\n",
    "    text = re.sub(r'[^\\w\\s]','',text)\n",
    "    tokens = text.lower()\n",
    "    tokens = tokens.split()\n",
    "    tokens = [wrd for wrd in tokens if(wrd not in stopWords)]\n",
    "    stems = [p_stemmer.stem(t) for t in tokens]\n",
    "    stems = \" \".join(stems)\n",
    "    return stems"
   ]
  },
  {
   "cell_type": "markdown",
   "metadata": {},
   "source": [
    "### Exact Cosine "
   ]
  },
  {
   "cell_type": "code",
   "execution_count": 5,
   "metadata": {},
   "outputs": [],
   "source": [
    "vectorizer = TfidfVectorizer(tokenizer=preprocess2)\n",
    "flag = 0\n",
    "\n",
    "def cosine_sim(text1, text2):\n",
    "    tfidf = vectorizer.fit_transform([text1, text2])\n",
    "    return ((tfidf * tfidf.T).A)[0,1]\n",
    "\n",
    "\n",
    "def exact_cosine(train_data,test_data):\n",
    "    counter = 0\n",
    "    t0 = time.time()\n",
    "    line = 0\n",
    "    for d in test_data['Content']:\n",
    "        for d2 in train_data['Content']:\n",
    "            c = cosine_sim(d,d2)\n",
    "            if(c > 0.8):\n",
    "                counter = counter + 1;\n",
    "                break;\n",
    "    t1 = time.time()\n",
    "                \n",
    "    print(counter)\n",
    "    print(t1-t0)\n",
    "    \n",
    "cos = lambda a, b : round(np.inner(a, b)/(LA.norm(a)*LA.norm(b)), 3)\n",
    "\n",
    "vectorizer = CountVectorizer(tokenizer = preprocess)\n",
    "\n",
    "def exact_cosine2(trainVectorizerArray,testVectorizerArray):\n",
    "    counter2 = 0\n",
    "    #train = train_data['Content']\n",
    "    #test = test_data['Content']\n",
    "    #trainVectorizerArray = vectorizer.fit_transform(train).toarray()\n",
    "    for testV in testVectorizerArray:\n",
    "        for vector in trainVectorizerArray:\n",
    "            cosine = cos(vector, testV)\n",
    "            if cosine > 0.8:\n",
    "                counter2 = counter2 + 1\n",
    "                continue\n",
    "    return counter2"
   ]
  },
  {
   "cell_type": "code",
   "execution_count": 6,
   "metadata": {},
   "outputs": [],
   "source": [
    "test = test_data['Content'].head(1000)\n",
    "train = train_data['Content'].head(50000)\n",
    "trainVectorizerArray = vectorizer.fit_transform(train).toarray()\n",
    "testVectorizerArray = vectorizer.transform(test).toarray()"
   ]
  },
  {
   "cell_type": "code",
   "execution_count": 7,
   "metadata": {},
   "outputs": [
    {
     "name": "stderr",
     "output_type": "stream",
     "text": [
      "c:\\python\\python37\\lib\\site-packages\\ipykernel_launcher.py:24: RuntimeWarning: invalid value encountered in true_divide\n"
     ]
    },
    {
     "name": "stdout",
     "output_type": "stream",
     "text": [
      "exact cosine: 336\n",
      "time:  24418.88220191002\n"
     ]
    }
   ],
   "source": [
    "counter = 0\n",
    "\n",
    "t0 = time.time()\n",
    "\n",
    "counter = exact_cosine2(trainVectorizerArray,testVectorizerArray)\n",
    "\n",
    "t1 = time.time()\n",
    "total = t1-t0\n",
    "\n",
    "\n",
    "\n",
    "print(\"exact cosine:\", end=' ')\n",
    "print(counter)\n",
    "print(\"time: \",end=' ')\n",
    "print(total)"
   ]
  },
  {
   "cell_type": "markdown",
   "metadata": {},
   "source": [
    "### Exact Jaccard"
   ]
  },
  {
   "cell_type": "code",
   "execution_count": 5,
   "metadata": {},
   "outputs": [],
   "source": [
    "def jaccard_similarity(x, y):\n",
    "    intersection_cardinality = len(set(x).intersection(set(y)))\n",
    "    union_cardinality = len(set(x).union(set(y)))\n",
    "    return intersection_cardinality / float(union_cardinality)"
   ]
  },
  {
   "cell_type": "code",
   "execution_count": 6,
   "metadata": {},
   "outputs": [],
   "source": [
    "test = test_data['Content'].head(1000)\n",
    "train = train_data['Content'].head(50000)"
   ]
  },
  {
   "cell_type": "code",
   "execution_count": 12,
   "metadata": {},
   "outputs": [],
   "source": [
    "trainD = train.map(preprocess2)\n",
    "testD = test.map(preprocess2)"
   ]
  },
  {
   "cell_type": "code",
   "execution_count": 17,
   "metadata": {},
   "outputs": [
    {
     "name": "stdout",
     "output_type": "stream",
     "text": [
      "exact jaccard: 931\n",
      "time:  30.483662366867065\n"
     ]
    }
   ],
   "source": [
    "counterJ = 0\n",
    "t3 = time.time()\n",
    "for testS in testD:\n",
    "    for trainS in trainD:\n",
    "        j_sim = jaccard_similarity(testS,trainS)\n",
    "        j_sim = round(j_sim,2)\n",
    "        if j_sim>0.8:\n",
    "            counterJ = counterJ+1\n",
    "            break\n",
    "t4 = time.time()\n",
    "tot_time = t4-t3\n",
    "\n",
    "print(\"exact jaccard:\", end=' ')\n",
    "print(counterJ)\n",
    "print(\"time: \",end=' ')\n",
    "print(tot_time)"
   ]
  }
 ],
 "metadata": {
  "kernelspec": {
   "display_name": "Python 3",
   "language": "python",
   "name": "python3"
  },
  "language_info": {
   "codemirror_mode": {
    "name": "ipython",
    "version": 3
   },
   "file_extension": ".py",
   "mimetype": "text/x-python",
   "name": "python",
   "nbconvert_exporter": "python",
   "pygments_lexer": "ipython3",
   "version": "3.7.3"
  }
 },
 "nbformat": 4,
 "nbformat_minor": 2
}
